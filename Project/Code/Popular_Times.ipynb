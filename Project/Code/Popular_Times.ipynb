{
 "cells": [
  {
   "cell_type": "code",
   "execution_count": 4,
   "metadata": {},
   "outputs": [],
   "source": [
    "import json\n",
    "import re\n",
    "DATA_PATH = \"C:/Users/utkar/Downloads/large_data.json\""
   ]
  },
  {
   "cell_type": "code",
   "execution_count": 11,
   "metadata": {},
   "outputs": [
    {
     "name": "stdout",
     "output_type": "stream",
     "text": [
      "Saturdays\n",
      "Sundays\n",
      "Mondays\n",
      "Tuesdays\n",
      "Wednesdays\n",
      "Thursdays\n",
      "Fridays\n"
     ]
    }
   ],
   "source": [
    "day_dict = {\n",
    "    \"Saturdays\": {},\n",
    "    \"Sundays\": {},\n",
    "    \"Mondays\": {},\n",
    "    \"Tuesdays\": {},\n",
    "    \"Wednesdays\": {},\n",
    "    \"Thursdays\": {},\n",
    "    \"Fridays\": {}\n",
    "}\n",
    "zipcode_restaurants = {}\n",
    "\n",
    "# Initialize all the hours of the days\n",
    "for d in day_dict.keys():\n",
    "    print(d)\n",
    "    for i in range(1,25):\n",
    "        day_dict[d][i] = {}"
   ]
  },
  {
   "cell_type": "code",
   "execution_count": 12,
   "metadata": {},
   "outputs": [],
   "source": [
    "inputfile = open(DATA_PATH, \"r\")\n",
    "\n",
    "#Read all the restaurant data\n",
    "for line in inputfile:\n",
    "    # Fetch the yelp ui\n",
    "    restaurant = json.loads(line)\n",
    "    \n",
    "    # Parse Popular times data here\n",
    "    regex = r'[0-9]*%'\n",
    "    t = r'(?<=at).+'\n",
    "    if 'uigoogle' in restaurant.keys():\n",
    "        if restaurant['uigoogle'].get('popularTimes') and len(restaurant['uigoogle'].get('popularTimes')) > 0:\n",
    "            # Fetch the zipcode\n",
    "            addr_components = restaurant['google']['address_components']\n",
    "            zipcode = None\n",
    "            for comp in addr_components:\n",
    "                if 'postal_code' in comp['types']:\n",
    "                    zipcode = comp['long_name'].split('-')[0][:5]\n",
    "                    break\n",
    "            if zipcode == None:\n",
    "                continue\n",
    "        \n",
    "            zipcode_restaurants[zipcode] = zipcode_restaurants.get(zipcode, 0) + 1\n",
    "        \n",
    "            time = restaurant['uigoogle']['popularTimes']\n",
    "            # For a particular day\n",
    "            for day in time:\n",
    "                # Time zones\n",
    "                for business in time[day]:\n",
    "                    match = re.match(regex, business)\n",
    "                    time_zone = re.search(t, business)\n",
    "                    if match != None and time_zone != None:\n",
    "                        busy = match.group(0).replace('%','')\n",
    "                        ztime = time_zone.group(0).strip().split()\n",
    "                        \n",
    "                        if busy != 0 and len(busy) > 0:\n",
    "                            clock = int(ztime[0]) + (0,12)[ztime[1].startswith('P')]\n",
    "                            day_dict[day][clock][zipcode] = day_dict[day][clock].get(zipcode, 0) + int(busy)\n",
    "            \n",
    "inputfile.close()"
   ]
  },
  {
   "cell_type": "code",
   "execution_count": 20,
   "metadata": {},
   "outputs": [],
   "source": [
    "for day in day_dict.keys():\n",
    "    for hour in day_dict[day].keys():\n",
    "        for zipcode in day_dict[day][hour].keys():\n",
    "            day_dict[day][hour][zipcode] = round(day_dict[day][hour][zipcode]/zipcode_restaurants[zipcode], 2)"
   ]
  },
  {
   "cell_type": "code",
   "execution_count": 21,
   "metadata": {},
   "outputs": [],
   "source": [
    "outputfile = open(\"C:/Users/utkar/Downloads/popular_times.json\", \"w\")\n",
    "outputfile.write(json.dumps(day_dict))\n",
    "outputfile.close()"
   ]
  }
 ],
 "metadata": {
  "kernelspec": {
   "display_name": "Python 3",
   "language": "python",
   "name": "python3"
  },
  "language_info": {
   "codemirror_mode": {
    "name": "ipython",
    "version": 3
   },
   "file_extension": ".py",
   "mimetype": "text/x-python",
   "name": "python",
   "nbconvert_exporter": "python",
   "pygments_lexer": "ipython3",
   "version": "3.7.0"
  }
 },
 "nbformat": 4,
 "nbformat_minor": 2
}
